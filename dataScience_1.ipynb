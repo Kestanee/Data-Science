{
 "cells": [
  {
   "cell_type": "code",
   "outputs": [
    {
     "name": "stdout",
     "output_type": "stream",
     "text": [
      "Collecting numpy\r\n",
      "  Downloading numpy-1.26.4-cp39-cp39-manylinux_2_17_x86_64.manylinux2014_x86_64.whl.metadata (61 kB)\r\n",
      "\u001B[2K     \u001B[90m━━━━━━━━━━━━━━━━━━━━━━━━━━━━━━━━━━━━━━━\u001B[0m \u001B[32m61.0/61.0 kB\u001B[0m \u001B[31m221.8 kB/s\u001B[0m eta \u001B[36m0:00:00\u001B[0ma \u001B[36m0:00:01\u001B[0m\r\n",
      "\u001B[?25hDownloading numpy-1.26.4-cp39-cp39-manylinux_2_17_x86_64.manylinux2014_x86_64.whl (18.2 MB)\r\n",
      "\u001B[2K   \u001B[90m━━━━━━━━━━━━━━━━━━━━━━━━━━━━━━━━━━━━━━━━\u001B[0m \u001B[32m18.2/18.2 MB\u001B[0m \u001B[31m594.5 kB/s\u001B[0m eta \u001B[36m0:00:00\u001B[0m00:01\u001B[0m00:01\u001B[0m\r\n",
      "\u001B[?25hInstalling collected packages: numpy\r\n",
      "Successfully installed numpy-1.26.4\r\n",
      "\r\n",
      "\u001B[1m[\u001B[0m\u001B[34;49mnotice\u001B[0m\u001B[1;39;49m]\u001B[0m\u001B[39;49m A new release of pip is available: \u001B[0m\u001B[31;49m23.3.1\u001B[0m\u001B[39;49m -> \u001B[0m\u001B[32;49m24.0\u001B[0m\r\n",
      "\u001B[1m[\u001B[0m\u001B[34;49mnotice\u001B[0m\u001B[1;39;49m]\u001B[0m\u001B[39;49m To update, run: \u001B[0m\u001B[32;49mpip install --upgrade pip\u001B[0m\r\n",
      "Collecting pandas\r\n",
      "  Downloading pandas-2.2.1-cp39-cp39-manylinux_2_17_x86_64.manylinux2014_x86_64.whl.metadata (19 kB)\r\n",
      "Requirement already satisfied: numpy<2,>=1.22.4 in /home/furkan/PycharmProjects/envs/pythonEnv/lib/python3.9/site-packages (from pandas) (1.26.4)\r\n",
      "Requirement already satisfied: python-dateutil>=2.8.2 in /home/furkan/PycharmProjects/envs/pythonEnv/lib/python3.9/site-packages (from pandas) (2.8.2)\r\n",
      "Collecting pytz>=2020.1 (from pandas)\r\n",
      "  Downloading pytz-2024.1-py2.py3-none-any.whl.metadata (22 kB)\r\n",
      "Collecting tzdata>=2022.7 (from pandas)\r\n",
      "  Downloading tzdata-2024.1-py2.py3-none-any.whl.metadata (1.4 kB)\r\n",
      "Requirement already satisfied: six>=1.5 in /home/furkan/PycharmProjects/envs/pythonEnv/lib/python3.9/site-packages (from python-dateutil>=2.8.2->pandas) (1.16.0)\r\n",
      "Downloading pandas-2.2.1-cp39-cp39-manylinux_2_17_x86_64.manylinux2014_x86_64.whl (13.0 MB)\r\n",
      "\u001B[2K   \u001B[90m━━━━━━━━━━━━━━━━━━━━━━━━━━━━━━━━━━━━━━━━\u001B[0m \u001B[32m13.0/13.0 MB\u001B[0m \u001B[31m740.9 kB/s\u001B[0m eta \u001B[36m0:00:00\u001B[0m00:01\u001B[0m00:01\u001B[0m\r\n",
      "\u001B[?25hDownloading pytz-2024.1-py2.py3-none-any.whl (505 kB)\r\n",
      "\u001B[2K   \u001B[90m━━━━━━━━━━━━━━━━━━━━━━━━━━━━━━━━━━━━━━━\u001B[0m \u001B[32m505.5/505.5 kB\u001B[0m \u001B[31m393.3 kB/s\u001B[0m eta \u001B[36m0:00:00\u001B[0ma \u001B[36m0:00:01\u001B[0m\r\n",
      "\u001B[?25hDownloading tzdata-2024.1-py2.py3-none-any.whl (345 kB)\r\n",
      "\u001B[2K   \u001B[90m━━━━━━━━━━━━━━━━━━━━━━━━━━━━━━━━━━━━━━━\u001B[0m \u001B[32m345.4/345.4 kB\u001B[0m \u001B[31m219.0 kB/s\u001B[0m eta \u001B[36m0:00:00\u001B[0m00:01\u001B[0m00:01\u001B[0m\r\n",
      "\u001B[?25hInstalling collected packages: pytz, tzdata, pandas\r\n",
      "Successfully installed pandas-2.2.1 pytz-2024.1 tzdata-2024.1\r\n",
      "\r\n",
      "\u001B[1m[\u001B[0m\u001B[34;49mnotice\u001B[0m\u001B[1;39;49m]\u001B[0m\u001B[39;49m A new release of pip is available: \u001B[0m\u001B[31;49m23.3.1\u001B[0m\u001B[39;49m -> \u001B[0m\u001B[32;49m24.0\u001B[0m\r\n",
      "\u001B[1m[\u001B[0m\u001B[34;49mnotice\u001B[0m\u001B[1;39;49m]\u001B[0m\u001B[39;49m To update, run: \u001B[0m\u001B[32;49mpip install --upgrade pip\u001B[0m\r\n",
      "Collecting seaborn\r\n",
      "  Downloading seaborn-0.13.2-py3-none-any.whl.metadata (5.4 kB)\r\n",
      "Requirement already satisfied: numpy!=1.24.0,>=1.20 in /home/furkan/PycharmProjects/envs/pythonEnv/lib/python3.9/site-packages (from seaborn) (1.26.4)\r\n",
      "Requirement already satisfied: pandas>=1.2 in /home/furkan/PycharmProjects/envs/pythonEnv/lib/python3.9/site-packages (from seaborn) (2.2.1)\r\n",
      "Collecting matplotlib!=3.6.1,>=3.4 (from seaborn)\r\n",
      "  Downloading matplotlib-3.8.3-cp39-cp39-manylinux_2_17_x86_64.manylinux2014_x86_64.whl.metadata (5.8 kB)\r\n",
      "Collecting contourpy>=1.0.1 (from matplotlib!=3.6.1,>=3.4->seaborn)\r\n",
      "  Downloading contourpy-1.2.0-cp39-cp39-manylinux_2_17_x86_64.manylinux2014_x86_64.whl.metadata (5.8 kB)\r\n",
      "Collecting cycler>=0.10 (from matplotlib!=3.6.1,>=3.4->seaborn)\r\n",
      "  Downloading cycler-0.12.1-py3-none-any.whl.metadata (3.8 kB)\r\n",
      "Collecting fonttools>=4.22.0 (from matplotlib!=3.6.1,>=3.4->seaborn)\r\n",
      "  Downloading fonttools-4.49.0-cp39-cp39-manylinux_2_17_x86_64.manylinux2014_x86_64.whl.metadata (159 kB)\r\n",
      "\u001B[2K     \u001B[90m━━━━━━━━━━━━━━━━━━━━━━━━━━━━━━━━━━━━━\u001B[0m \u001B[32m159.1/159.1 kB\u001B[0m \u001B[31m266.3 kB/s\u001B[0m eta \u001B[36m0:00:00\u001B[0ma \u001B[36m0:00:01\u001B[0m\r\n",
      "\u001B[?25hCollecting kiwisolver>=1.3.1 (from matplotlib!=3.6.1,>=3.4->seaborn)\r\n",
      "  Downloading kiwisolver-1.4.5-cp39-cp39-manylinux_2_12_x86_64.manylinux2010_x86_64.whl.metadata (6.4 kB)\r\n",
      "Requirement already satisfied: packaging>=20.0 in /home/furkan/PycharmProjects/envs/pythonEnv/lib/python3.9/site-packages (from matplotlib!=3.6.1,>=3.4->seaborn) (23.2)\r\n",
      "Collecting pillow>=8 (from matplotlib!=3.6.1,>=3.4->seaborn)\r\n",
      "  Downloading pillow-10.2.0-cp39-cp39-manylinux_2_28_x86_64.whl.metadata (9.7 kB)\r\n",
      "Collecting pyparsing>=2.3.1 (from matplotlib!=3.6.1,>=3.4->seaborn)\r\n",
      "  Downloading pyparsing-3.1.1-py3-none-any.whl.metadata (5.1 kB)\r\n",
      "Requirement already satisfied: python-dateutil>=2.7 in /home/furkan/PycharmProjects/envs/pythonEnv/lib/python3.9/site-packages (from matplotlib!=3.6.1,>=3.4->seaborn) (2.8.2)\r\n",
      "Collecting importlib-resources>=3.2.0 (from matplotlib!=3.6.1,>=3.4->seaborn)\r\n",
      "  Downloading importlib_resources-6.1.1-py3-none-any.whl.metadata (4.1 kB)\r\n",
      "Requirement already satisfied: pytz>=2020.1 in /home/furkan/PycharmProjects/envs/pythonEnv/lib/python3.9/site-packages (from pandas>=1.2->seaborn) (2024.1)\r\n",
      "Requirement already satisfied: tzdata>=2022.7 in /home/furkan/PycharmProjects/envs/pythonEnv/lib/python3.9/site-packages (from pandas>=1.2->seaborn) (2024.1)\r\n",
      "Requirement already satisfied: zipp>=3.1.0 in /home/furkan/PycharmProjects/envs/pythonEnv/lib/python3.9/site-packages (from importlib-resources>=3.2.0->matplotlib!=3.6.1,>=3.4->seaborn) (3.17.0)\r\n",
      "Requirement already satisfied: six>=1.5 in /home/furkan/PycharmProjects/envs/pythonEnv/lib/python3.9/site-packages (from python-dateutil>=2.7->matplotlib!=3.6.1,>=3.4->seaborn) (1.16.0)\r\n",
      "Downloading seaborn-0.13.2-py3-none-any.whl (294 kB)\r\n",
      "\u001B[2K   \u001B[90m━━━━━━━━━━━━━━━━━━━━━━━━━━━━━━━━━━━━━━━\u001B[0m \u001B[32m294.9/294.9 kB\u001B[0m \u001B[31m325.9 kB/s\u001B[0m eta \u001B[36m0:00:00\u001B[0ma \u001B[36m0:00:01\u001B[0m\r\n",
      "\u001B[?25hDownloading matplotlib-3.8.3-cp39-cp39-manylinux_2_17_x86_64.manylinux2014_x86_64.whl (11.6 MB)\r\n",
      "\u001B[2K   \u001B[90m━━━━━━━━━━━━━━━━━━━━━━━━━━━━━━━━━━━━━━━━\u001B[0m \u001B[32m11.6/11.6 MB\u001B[0m \u001B[31m1.3 MB/s\u001B[0m eta \u001B[36m0:00:00\u001B[0m00:01\u001B[0m00:01\u001B[0mm\r\n",
      "\u001B[?25hDownloading contourpy-1.2.0-cp39-cp39-manylinux_2_17_x86_64.manylinux2014_x86_64.whl (310 kB)\r\n",
      "\u001B[2K   \u001B[90m━━━━━━━━━━━━━━━━━━━━━━━━━━━━━━━━━━━━━━━━\u001B[0m \u001B[32m311.0/311.0 kB\u001B[0m \u001B[31m1.3 MB/s\u001B[0m eta \u001B[36m0:00:00\u001B[0ma \u001B[36m0:00:01\u001B[0m\r\n",
      "\u001B[?25hDownloading cycler-0.12.1-py3-none-any.whl (8.3 kB)\r\n",
      "Downloading fonttools-4.49.0-cp39-cp39-manylinux_2_17_x86_64.manylinux2014_x86_64.whl (4.6 MB)\r\n",
      "\u001B[2K   \u001B[90m━━━━━━━━━━━━━━━━━━━━━━━━━━━━━━━━━━━━━━━━\u001B[0m \u001B[32m4.6/4.6 MB\u001B[0m \u001B[31m1.4 MB/s\u001B[0m eta \u001B[36m0:00:00\u001B[0m00:01\u001B[0m00:01\u001B[0m\r\n",
      "\u001B[?25hDownloading importlib_resources-6.1.1-py3-none-any.whl (33 kB)\r\n",
      "Downloading kiwisolver-1.4.5-cp39-cp39-manylinux_2_12_x86_64.manylinux2010_x86_64.whl (1.6 MB)\r\n",
      "\u001B[2K   \u001B[90m━━━━━━━━━━━━━━━━━━━━━━━━━━━━━━━━━━━━━━━━\u001B[0m \u001B[32m1.6/1.6 MB\u001B[0m \u001B[31m1.4 MB/s\u001B[0m eta \u001B[36m0:00:00\u001B[0m00:01\u001B[0m00:01\u001B[0m\r\n",
      "\u001B[?25hDownloading pillow-10.2.0-cp39-cp39-manylinux_2_28_x86_64.whl (4.5 MB)\r\n",
      "\u001B[2K   \u001B[90m━━━━━━━━━━━━━━━━━━━━━━━━━━━━━━━━━━━━━━━━\u001B[0m \u001B[32m4.5/4.5 MB\u001B[0m \u001B[31m1.5 MB/s\u001B[0m eta \u001B[36m0:00:00\u001B[0m00:01\u001B[0m00:01\u001B[0m\r\n",
      "\u001B[?25hDownloading pyparsing-3.1.1-py3-none-any.whl (103 kB)\r\n",
      "\u001B[2K   \u001B[90m━━━━━━━━━━━━━━━━━━━━━━━━━━━━━━━━━━━━━━━━\u001B[0m \u001B[32m103.1/103.1 kB\u001B[0m \u001B[31m1.4 MB/s\u001B[0m eta \u001B[36m0:00:00\u001B[0m \u001B[36m0:00:01\u001B[0m\r\n",
      "\u001B[?25hInstalling collected packages: pyparsing, pillow, kiwisolver, importlib-resources, fonttools, cycler, contourpy, matplotlib, seaborn\r\n",
      "Successfully installed contourpy-1.2.0 cycler-0.12.1 fonttools-4.49.0 importlib-resources-6.1.1 kiwisolver-1.4.5 matplotlib-3.8.3 pillow-10.2.0 pyparsing-3.1.1 seaborn-0.13.2\r\n",
      "\r\n",
      "\u001B[1m[\u001B[0m\u001B[34;49mnotice\u001B[0m\u001B[1;39;49m]\u001B[0m\u001B[39;49m A new release of pip is available: \u001B[0m\u001B[31;49m23.3.1\u001B[0m\u001B[39;49m -> \u001B[0m\u001B[32;49m24.0\u001B[0m\r\n",
      "\u001B[1m[\u001B[0m\u001B[34;49mnotice\u001B[0m\u001B[1;39;49m]\u001B[0m\u001B[39;49m To update, run: \u001B[0m\u001B[32;49mpip install --upgrade pip\u001B[0m\r\n",
      "Requirement already satisfied: matplotlib in /home/furkan/PycharmProjects/envs/pythonEnv/lib/python3.9/site-packages (3.8.3)\r\n",
      "Requirement already satisfied: contourpy>=1.0.1 in /home/furkan/PycharmProjects/envs/pythonEnv/lib/python3.9/site-packages (from matplotlib) (1.2.0)\r\n",
      "Requirement already satisfied: cycler>=0.10 in /home/furkan/PycharmProjects/envs/pythonEnv/lib/python3.9/site-packages (from matplotlib) (0.12.1)\r\n",
      "Requirement already satisfied: fonttools>=4.22.0 in /home/furkan/PycharmProjects/envs/pythonEnv/lib/python3.9/site-packages (from matplotlib) (4.49.0)\r\n",
      "Requirement already satisfied: kiwisolver>=1.3.1 in /home/furkan/PycharmProjects/envs/pythonEnv/lib/python3.9/site-packages (from matplotlib) (1.4.5)\r\n",
      "Requirement already satisfied: numpy<2,>=1.21 in /home/furkan/PycharmProjects/envs/pythonEnv/lib/python3.9/site-packages (from matplotlib) (1.26.4)\r\n",
      "Requirement already satisfied: packaging>=20.0 in /home/furkan/PycharmProjects/envs/pythonEnv/lib/python3.9/site-packages (from matplotlib) (23.2)\r\n",
      "Requirement already satisfied: pillow>=8 in /home/furkan/PycharmProjects/envs/pythonEnv/lib/python3.9/site-packages (from matplotlib) (10.2.0)\r\n",
      "Requirement already satisfied: pyparsing>=2.3.1 in /home/furkan/PycharmProjects/envs/pythonEnv/lib/python3.9/site-packages (from matplotlib) (3.1.1)\r\n",
      "Requirement already satisfied: python-dateutil>=2.7 in /home/furkan/PycharmProjects/envs/pythonEnv/lib/python3.9/site-packages (from matplotlib) (2.8.2)\r\n",
      "Requirement already satisfied: importlib-resources>=3.2.0 in /home/furkan/PycharmProjects/envs/pythonEnv/lib/python3.9/site-packages (from matplotlib) (6.1.1)\r\n",
      "Requirement already satisfied: zipp>=3.1.0 in /home/furkan/PycharmProjects/envs/pythonEnv/lib/python3.9/site-packages (from importlib-resources>=3.2.0->matplotlib) (3.17.0)\r\n",
      "Requirement already satisfied: six>=1.5 in /home/furkan/PycharmProjects/envs/pythonEnv/lib/python3.9/site-packages (from python-dateutil>=2.7->matplotlib) (1.16.0)\r\n",
      "\r\n",
      "\u001B[1m[\u001B[0m\u001B[34;49mnotice\u001B[0m\u001B[1;39;49m]\u001B[0m\u001B[39;49m A new release of pip is available: \u001B[0m\u001B[31;49m23.3.1\u001B[0m\u001B[39;49m -> \u001B[0m\u001B[32;49m24.0\u001B[0m\r\n",
      "\u001B[1m[\u001B[0m\u001B[34;49mnotice\u001B[0m\u001B[1;39;49m]\u001B[0m\u001B[39;49m To update, run: \u001B[0m\u001B[32;49mpip install --upgrade pip\u001B[0m\r\n"
     ]
    }
   ],
   "source": [
    "!pip install numpy\n",
    "!pip install pandas\n",
    "!pip install seaborn\n",
    "!pip install matplotlib"
   ],
   "metadata": {
    "collapsed": false,
    "ExecuteTime": {
     "end_time": "2024-02-25T11:12:44.184435184Z",
     "start_time": "2024-02-25T11:10:48.483197750Z"
    }
   },
   "id": "49c07d9c8c2d9179",
   "execution_count": 2
  },
  {
   "cell_type": "code",
   "execution_count": 1,
   "id": "initial_id",
   "metadata": {
    "collapsed": true,
    "ExecuteTime": {
     "end_time": "2024-02-25T11:42:01.203940556Z",
     "start_time": "2024-02-25T11:42:01.191097424Z"
    }
   },
   "outputs": [],
   "source": [
    "import numpy as np  # linear algebra\n",
    "import pandas as pd  # data processing, CSV file I/O (e.g. pd.read_csv)\n",
    "import seaborn as sns\n",
    "import matplotlib.pyplot as plt\n",
    "\n",
    "import os"
   ]
  },
  {
   "cell_type": "code",
   "outputs": [],
   "source": [
    "data = pd.read_csv(\"./GlobalLandTemperaturesByCity.csv\", parse_dates=[\"dt\"])"
   ],
   "metadata": {
    "collapsed": false,
    "ExecuteTime": {
     "end_time": "2024-02-25T11:42:11.851191267Z",
     "start_time": "2024-02-25T11:42:04.333233849Z"
    }
   },
   "id": "1ffff5f8573d3b34",
   "execution_count": 2
  },
  {
   "cell_type": "code",
   "outputs": [
    {
     "data": {
      "text/plain": "          dt  AverageTemperature  AverageTemperatureUncertainty   City  \\\n0 1743-11-01               6.068                          1.737  Århus   \n1 1743-12-01                 NaN                            NaN  Århus   \n2 1744-01-01                 NaN                            NaN  Århus   \n3 1744-02-01                 NaN                            NaN  Århus   \n4 1744-03-01                 NaN                            NaN  Århus   \n\n   Country Latitude Longitude  \n0  Denmark   57.05N    10.33E  \n1  Denmark   57.05N    10.33E  \n2  Denmark   57.05N    10.33E  \n3  Denmark   57.05N    10.33E  \n4  Denmark   57.05N    10.33E  ",
      "text/html": "<div>\n<style scoped>\n    .dataframe tbody tr th:only-of-type {\n        vertical-align: middle;\n    }\n\n    .dataframe tbody tr th {\n        vertical-align: top;\n    }\n\n    .dataframe thead th {\n        text-align: right;\n    }\n</style>\n<table border=\"1\" class=\"dataframe\">\n  <thead>\n    <tr style=\"text-align: right;\">\n      <th></th>\n      <th>dt</th>\n      <th>AverageTemperature</th>\n      <th>AverageTemperatureUncertainty</th>\n      <th>City</th>\n      <th>Country</th>\n      <th>Latitude</th>\n      <th>Longitude</th>\n    </tr>\n  </thead>\n  <tbody>\n    <tr>\n      <th>0</th>\n      <td>1743-11-01</td>\n      <td>6.068</td>\n      <td>1.737</td>\n      <td>Århus</td>\n      <td>Denmark</td>\n      <td>57.05N</td>\n      <td>10.33E</td>\n    </tr>\n    <tr>\n      <th>1</th>\n      <td>1743-12-01</td>\n      <td>NaN</td>\n      <td>NaN</td>\n      <td>Århus</td>\n      <td>Denmark</td>\n      <td>57.05N</td>\n      <td>10.33E</td>\n    </tr>\n    <tr>\n      <th>2</th>\n      <td>1744-01-01</td>\n      <td>NaN</td>\n      <td>NaN</td>\n      <td>Århus</td>\n      <td>Denmark</td>\n      <td>57.05N</td>\n      <td>10.33E</td>\n    </tr>\n    <tr>\n      <th>3</th>\n      <td>1744-02-01</td>\n      <td>NaN</td>\n      <td>NaN</td>\n      <td>Århus</td>\n      <td>Denmark</td>\n      <td>57.05N</td>\n      <td>10.33E</td>\n    </tr>\n    <tr>\n      <th>4</th>\n      <td>1744-03-01</td>\n      <td>NaN</td>\n      <td>NaN</td>\n      <td>Århus</td>\n      <td>Denmark</td>\n      <td>57.05N</td>\n      <td>10.33E</td>\n    </tr>\n  </tbody>\n</table>\n</div>"
     },
     "execution_count": 3,
     "metadata": {},
     "output_type": "execute_result"
    }
   ],
   "source": [
    "data.head()"
   ],
   "metadata": {
    "collapsed": false,
    "ExecuteTime": {
     "end_time": "2024-02-25T11:42:11.869140369Z",
     "start_time": "2024-02-25T11:42:11.860436884Z"
    }
   },
   "id": "bdac90e574335318",
   "execution_count": 3
  },
  {
   "cell_type": "code",
   "outputs": [
    {
     "data": {
      "text/plain": "dt                               datetime64[ns]\nAverageTemperature                      float64\nAverageTemperatureUncertainty           float64\nCity                                     object\nCountry                                  object\nLatitude                                 object\nLongitude                                object\ndtype: object"
     },
     "execution_count": 6,
     "metadata": {},
     "output_type": "execute_result"
    }
   ],
   "source": [
    "data.dtypes"
   ],
   "metadata": {
    "collapsed": false,
    "ExecuteTime": {
     "end_time": "2024-02-25T11:14:39.153146545Z",
     "start_time": "2024-02-25T11:14:39.109975724Z"
    }
   },
   "id": "f8cf7713716eb687",
   "execution_count": 6
  },
  {
   "cell_type": "code",
   "outputs": [
    {
     "name": "stdout",
     "output_type": "stream",
     "text": [
      "<class 'pandas.core.frame.DataFrame'>\n",
      "RangeIndex: 8599212 entries, 0 to 8599211\n",
      "Data columns (total 7 columns):\n",
      " #   Column                         Dtype         \n",
      "---  ------                         -----         \n",
      " 0   dt                             datetime64[ns]\n",
      " 1   AverageTemperature             float64       \n",
      " 2   AverageTemperatureUncertainty  float64       \n",
      " 3   City                           object        \n",
      " 4   Country                        object        \n",
      " 5   Latitude                       object        \n",
      " 6   Longitude                      object        \n",
      "dtypes: datetime64[ns](1), float64(2), object(4)\n",
      "memory usage: 459.2+ MB\n"
     ]
    }
   ],
   "source": [
    "data.info()"
   ],
   "metadata": {
    "collapsed": false,
    "ExecuteTime": {
     "end_time": "2024-02-25T11:16:32.352686052Z",
     "start_time": "2024-02-25T11:16:32.309386689Z"
    }
   },
   "id": "71ec8fea99d9208a",
   "execution_count": 7
  },
  {
   "cell_type": "code",
   "outputs": [
    {
     "data": {
      "text/plain": "                                  dt  AverageTemperature  \\\ncount                        8599212        8.235082e+06   \nmean   1907-10-21 07:06:00.828411904        1.672743e+01   \nmin              1743-11-01 00:00:00       -4.270400e+01   \n25%              1860-06-01 00:00:00        1.029900e+01   \n50%              1911-09-01 00:00:00        1.883100e+01   \n75%              1962-09-01 00:00:00        2.521000e+01   \nmax              2013-09-01 00:00:00        3.965100e+01   \nstd                              NaN        1.035344e+01   \n\n       AverageTemperatureUncertainty  \ncount                   8.235082e+06  \nmean                    1.028575e+00  \nmin                     3.400000e-02  \n25%                     3.370000e-01  \n50%                     5.910000e-01  \n75%                     1.349000e+00  \nmax                     1.539600e+01  \nstd                     1.129733e+00  ",
      "text/html": "<div>\n<style scoped>\n    .dataframe tbody tr th:only-of-type {\n        vertical-align: middle;\n    }\n\n    .dataframe tbody tr th {\n        vertical-align: top;\n    }\n\n    .dataframe thead th {\n        text-align: right;\n    }\n</style>\n<table border=\"1\" class=\"dataframe\">\n  <thead>\n    <tr style=\"text-align: right;\">\n      <th></th>\n      <th>dt</th>\n      <th>AverageTemperature</th>\n      <th>AverageTemperatureUncertainty</th>\n    </tr>\n  </thead>\n  <tbody>\n    <tr>\n      <th>count</th>\n      <td>8599212</td>\n      <td>8.235082e+06</td>\n      <td>8.235082e+06</td>\n    </tr>\n    <tr>\n      <th>mean</th>\n      <td>1907-10-21 07:06:00.828411904</td>\n      <td>1.672743e+01</td>\n      <td>1.028575e+00</td>\n    </tr>\n    <tr>\n      <th>min</th>\n      <td>1743-11-01 00:00:00</td>\n      <td>-4.270400e+01</td>\n      <td>3.400000e-02</td>\n    </tr>\n    <tr>\n      <th>25%</th>\n      <td>1860-06-01 00:00:00</td>\n      <td>1.029900e+01</td>\n      <td>3.370000e-01</td>\n    </tr>\n    <tr>\n      <th>50%</th>\n      <td>1911-09-01 00:00:00</td>\n      <td>1.883100e+01</td>\n      <td>5.910000e-01</td>\n    </tr>\n    <tr>\n      <th>75%</th>\n      <td>1962-09-01 00:00:00</td>\n      <td>2.521000e+01</td>\n      <td>1.349000e+00</td>\n    </tr>\n    <tr>\n      <th>max</th>\n      <td>2013-09-01 00:00:00</td>\n      <td>3.965100e+01</td>\n      <td>1.539600e+01</td>\n    </tr>\n    <tr>\n      <th>std</th>\n      <td>NaN</td>\n      <td>1.035344e+01</td>\n      <td>1.129733e+00</td>\n    </tr>\n  </tbody>\n</table>\n</div>"
     },
     "execution_count": 8,
     "metadata": {},
     "output_type": "execute_result"
    }
   ],
   "source": [
    "data.describe()"
   ],
   "metadata": {
    "collapsed": false,
    "ExecuteTime": {
     "end_time": "2024-02-25T11:17:03.200366604Z",
     "start_time": "2024-02-25T11:17:01.731855602Z"
    }
   },
   "id": "c8f4797584b7dc05",
   "execution_count": 8
  },
  {
   "cell_type": "code",
   "outputs": [],
   "source": [
    "# data.to_pickle(\"data.pickle\")  #pickle, parquet vb .."
   ],
   "metadata": {
    "collapsed": false,
    "ExecuteTime": {
     "end_time": "2024-02-25T11:18:11.369548201Z",
     "start_time": "2024-02-25T11:18:10.179506706Z"
    }
   },
   "id": "73a0cd543f3c1719",
   "execution_count": 11
  },
  {
   "cell_type": "code",
   "outputs": [
    {
     "data": {
      "text/plain": "(8599212, 7)"
     },
     "execution_count": 12,
     "metadata": {},
     "output_type": "execute_result"
    }
   ],
   "source": [
    "data.shape"
   ],
   "metadata": {
    "collapsed": false,
    "ExecuteTime": {
     "end_time": "2024-02-25T11:20:59.175575855Z",
     "start_time": "2024-02-25T11:20:59.165142983Z"
    }
   },
   "id": "d902b0b1f4e27737",
   "execution_count": 12
  },
  {
   "cell_type": "code",
   "outputs": [
    {
     "data": {
      "text/plain": "dt                               0\nAverageTemperature               0\nAverageTemperatureUncertainty    0\nCity                             0\nCountry                          0\nLatitude                         0\nLongitude                        0\ndtype: int64"
     },
     "execution_count": 32,
     "metadata": {},
     "output_type": "execute_result"
    }
   ],
   "source": [
    "data.isna().sum() # False/True değerler oluşucak ve boşluk olan değerlerin çıktısı alınıcak."
   ],
   "metadata": {
    "collapsed": false,
    "ExecuteTime": {
     "end_time": "2024-02-25T11:36:14.655468455Z",
     "start_time": "2024-02-25T11:36:13.384920410Z"
    }
   },
   "id": "9734f280df5c3b93",
   "execution_count": 32
  },
  {
   "cell_type": "code",
   "outputs": [
    {
     "data": {
      "text/plain": "dt                               0.000000\nAverageTemperature               4.234458\nAverageTemperatureUncertainty    4.234458\nCity                             0.000000\nCountry                          0.000000\nLatitude                         0.000000\nLongitude                        0.000000\ndtype: float64"
     },
     "execution_count": 17,
     "metadata": {},
     "output_type": "execute_result"
    }
   ],
   "source": [
    "data.isna().sum() / data.shape[0] * 100"
   ],
   "metadata": {
    "collapsed": false,
    "ExecuteTime": {
     "end_time": "2024-02-25T11:23:58.687770429Z",
     "start_time": "2024-02-25T11:23:57.343178173Z"
    }
   },
   "id": "67e6cd61ef83e1c4",
   "execution_count": 17
  },
  {
   "cell_type": "code",
   "outputs": [],
   "source": [
    "data_non_null = data.dropna() # null olan satırları çıkar"
   ],
   "metadata": {
    "collapsed": false,
    "ExecuteTime": {
     "end_time": "2024-02-25T11:42:28.908008984Z",
     "start_time": "2024-02-25T11:42:27.241383499Z"
    }
   },
   "id": "baec8756d4f34797",
   "execution_count": 4
  },
  {
   "cell_type": "code",
   "outputs": [
    {
     "data": {
      "text/plain": "'\\naxis = 1 -> kolonu siler\\nhow = \"all|any\" -> all = kolon full null ise siler\\n                   any = satır null olan değer varsa siler\\nthresh = eşik değeri verir ve uygun ise kod çalışır.\\ninplace = True -> Null değerlerini taşıyan satırları çıkartır.\\n'"
     },
     "execution_count": 42,
     "metadata": {},
     "output_type": "execute_result"
    }
   ],
   "source": [
    "data.dropna(inplace=True) \n",
    "\"\"\"\n",
    "axis = 1 -> kolonu siler\n",
    "how = \"all|any\" -> all = kolon full null ise siler\n",
    "                   any = satır null olan değer varsa siler\n",
    "thresh = eşik değeri verir ve uygun ise kod çalışır.\n",
    "inplace = True -> Null değerlerini taşıyan satırları çıkartır.\n",
    "\"\"\""
   ],
   "metadata": {
    "collapsed": false,
    "ExecuteTime": {
     "end_time": "2024-02-25T11:40:01.001891177Z",
     "start_time": "2024-02-25T11:39:59.414114979Z"
    }
   },
   "id": "70197e0c41bc7d01",
   "execution_count": 42
  },
  {
   "cell_type": "code",
   "outputs": [
    {
     "data": {
      "text/plain": "          dt  AverageTemperature  AverageTemperatureUncertainty   City  \\\n0 1743-11-01               6.068                          1.737  Århus   \n5 1744-04-01               5.788                          3.624  Århus   \n6 1744-05-01              10.644                          1.283  Århus   \n7 1744-06-01              14.051                          1.347  Århus   \n8 1744-07-01              16.082                          1.396  Århus   \n\n   Country Latitude Longitude  \n0  Denmark   57.05N    10.33E  \n5  Denmark   57.05N    10.33E  \n6  Denmark   57.05N    10.33E  \n7  Denmark   57.05N    10.33E  \n8  Denmark   57.05N    10.33E  ",
      "text/html": "<div>\n<style scoped>\n    .dataframe tbody tr th:only-of-type {\n        vertical-align: middle;\n    }\n\n    .dataframe tbody tr th {\n        vertical-align: top;\n    }\n\n    .dataframe thead th {\n        text-align: right;\n    }\n</style>\n<table border=\"1\" class=\"dataframe\">\n  <thead>\n    <tr style=\"text-align: right;\">\n      <th></th>\n      <th>dt</th>\n      <th>AverageTemperature</th>\n      <th>AverageTemperatureUncertainty</th>\n      <th>City</th>\n      <th>Country</th>\n      <th>Latitude</th>\n      <th>Longitude</th>\n    </tr>\n  </thead>\n  <tbody>\n    <tr>\n      <th>0</th>\n      <td>1743-11-01</td>\n      <td>6.068</td>\n      <td>1.737</td>\n      <td>Århus</td>\n      <td>Denmark</td>\n      <td>57.05N</td>\n      <td>10.33E</td>\n    </tr>\n    <tr>\n      <th>5</th>\n      <td>1744-04-01</td>\n      <td>5.788</td>\n      <td>3.624</td>\n      <td>Århus</td>\n      <td>Denmark</td>\n      <td>57.05N</td>\n      <td>10.33E</td>\n    </tr>\n    <tr>\n      <th>6</th>\n      <td>1744-05-01</td>\n      <td>10.644</td>\n      <td>1.283</td>\n      <td>Århus</td>\n      <td>Denmark</td>\n      <td>57.05N</td>\n      <td>10.33E</td>\n    </tr>\n    <tr>\n      <th>7</th>\n      <td>1744-06-01</td>\n      <td>14.051</td>\n      <td>1.347</td>\n      <td>Århus</td>\n      <td>Denmark</td>\n      <td>57.05N</td>\n      <td>10.33E</td>\n    </tr>\n    <tr>\n      <th>8</th>\n      <td>1744-07-01</td>\n      <td>16.082</td>\n      <td>1.396</td>\n      <td>Århus</td>\n      <td>Denmark</td>\n      <td>57.05N</td>\n      <td>10.33E</td>\n    </tr>\n  </tbody>\n</table>\n</div>"
     },
     "execution_count": 41,
     "metadata": {},
     "output_type": "execute_result"
    }
   ],
   "source": [
    "# data.shape\n",
    "# data.isna().sum()"
   ],
   "metadata": {
    "collapsed": false,
    "ExecuteTime": {
     "end_time": "2024-02-25T11:39:30.144266680Z",
     "start_time": "2024-02-25T11:39:30.119811640Z"
    }
   },
   "id": "1abce81dece6531f",
   "execution_count": 41
  },
  {
   "cell_type": "code",
   "outputs": [
    {
     "data": {
      "text/plain": "(8599212, 7)"
     },
     "execution_count": 22,
     "metadata": {},
     "output_type": "execute_result"
    }
   ],
   "source": [
    "data.shape"
   ],
   "metadata": {
    "collapsed": false,
    "ExecuteTime": {
     "end_time": "2024-02-25T11:27:13.740097325Z",
     "start_time": "2024-02-25T11:27:13.731109016Z"
    }
   },
   "id": "c996eaf4c1ebb75",
   "execution_count": 22
  },
  {
   "cell_type": "code",
   "outputs": [
    {
     "data": {
      "text/plain": "           City      Country\n0         Århus      Denmark\n5         Århus      Denmark\n6         Århus      Denmark\n7         Århus      Denmark\n8         Århus      Denmark\n...         ...          ...\n8599206  Zwolle  Netherlands\n8599207  Zwolle  Netherlands\n8599208  Zwolle  Netherlands\n8599209  Zwolle  Netherlands\n8599210  Zwolle  Netherlands\n\n[8235082 rows x 2 columns]",
      "text/html": "<div>\n<style scoped>\n    .dataframe tbody tr th:only-of-type {\n        vertical-align: middle;\n    }\n\n    .dataframe tbody tr th {\n        vertical-align: top;\n    }\n\n    .dataframe thead th {\n        text-align: right;\n    }\n</style>\n<table border=\"1\" class=\"dataframe\">\n  <thead>\n    <tr style=\"text-align: right;\">\n      <th></th>\n      <th>City</th>\n      <th>Country</th>\n    </tr>\n  </thead>\n  <tbody>\n    <tr>\n      <th>0</th>\n      <td>Århus</td>\n      <td>Denmark</td>\n    </tr>\n    <tr>\n      <th>5</th>\n      <td>Århus</td>\n      <td>Denmark</td>\n    </tr>\n    <tr>\n      <th>6</th>\n      <td>Århus</td>\n      <td>Denmark</td>\n    </tr>\n    <tr>\n      <th>7</th>\n      <td>Århus</td>\n      <td>Denmark</td>\n    </tr>\n    <tr>\n      <th>8</th>\n      <td>Århus</td>\n      <td>Denmark</td>\n    </tr>\n    <tr>\n      <th>...</th>\n      <td>...</td>\n      <td>...</td>\n    </tr>\n    <tr>\n      <th>8599206</th>\n      <td>Zwolle</td>\n      <td>Netherlands</td>\n    </tr>\n    <tr>\n      <th>8599207</th>\n      <td>Zwolle</td>\n      <td>Netherlands</td>\n    </tr>\n    <tr>\n      <th>8599208</th>\n      <td>Zwolle</td>\n      <td>Netherlands</td>\n    </tr>\n    <tr>\n      <th>8599209</th>\n      <td>Zwolle</td>\n      <td>Netherlands</td>\n    </tr>\n    <tr>\n      <th>8599210</th>\n      <td>Zwolle</td>\n      <td>Netherlands</td>\n    </tr>\n  </tbody>\n</table>\n<p>8235082 rows × 2 columns</p>\n</div>"
     },
     "execution_count": 11,
     "metadata": {},
     "output_type": "execute_result"
    }
   ],
   "source": [
    "type(data_non_null[[\"Country\"]]) # ilk [\"\"] -> Series || [[\"\"]] -> DataFrame\n",
    "data_non_null[[\"City\", \"Country\"]]"
   ],
   "metadata": {
    "collapsed": false,
    "ExecuteTime": {
     "end_time": "2024-02-25T11:45:44.645392879Z",
     "start_time": "2024-02-25T11:45:44.468957628Z"
    }
   },
   "id": "f6b480eb37dd9d1d",
   "execution_count": 11
  },
  {
   "cell_type": "code",
   "outputs": [
    {
     "data": {
      "text/plain": "Country\nIndia               960548\nChina               819132\nUnited States       661524\nBrazil              451645\nRussia              448663\n                     ...  \nBurundi               1675\nEritrea               1669\nDjibouti              1658\nOman                  1652\nPapua New Guinea      1580\nName: count, Length: 159, dtype: int64"
     },
     "execution_count": 12,
     "metadata": {},
     "output_type": "execute_result"
    }
   ],
   "source": [
    "data_non_null[\"Country\"].value_counts() # O kolondokileri gruplar"
   ],
   "metadata": {
    "collapsed": false,
    "ExecuteTime": {
     "end_time": "2024-02-25T11:46:45.301771655Z",
     "start_time": "2024-02-25T11:46:45.153777452Z"
    }
   },
   "id": "8c529382cb508d81",
   "execution_count": 12
  },
  {
   "cell_type": "code",
   "outputs": [
    {
     "data": {
      "text/plain": "(159,)"
     },
     "execution_count": 13,
     "metadata": {},
     "output_type": "execute_result"
    }
   ],
   "source": [
    "data_non_null[\"Country\"].value_counts().shape"
   ],
   "metadata": {
    "collapsed": false,
    "ExecuteTime": {
     "end_time": "2024-02-25T11:48:07.648585371Z",
     "start_time": "2024-02-25T11:48:07.601498444Z"
    }
   },
   "id": "1e8eb6c57fb081e1",
   "execution_count": 13
  },
  {
   "cell_type": "code",
   "outputs": [
    {
     "data": {
      "text/plain": "                dt  AverageTemperature  AverageTemperatureUncertainty    City  \\\n17482   1743-11-01               6.425                          1.628  Aachen   \n17487   1744-04-01               8.599                          2.485  Aachen   \n17488   1744-05-01              11.699                          1.330  Aachen   \n17489   1744-06-01              14.839                          1.382  Aachen   \n17490   1744-07-01              16.390                          1.529  Aachen   \n...            ...                 ...                            ...     ...   \n8480046 2013-04-01              11.310                          0.493    Zama   \n8480047 2013-05-01              16.757                          0.396    Zama   \n8480048 2013-06-01              20.927                          0.489    Zama   \n8480049 2013-07-01              24.645                          0.404    Zama   \n8480050 2013-08-01              26.364                          0.461    Zama   \n\n         Country Latitude Longitude  \n17482    Germany   50.63N     6.34E  \n17487    Germany   50.63N     6.34E  \n17488    Germany   50.63N     6.34E  \n17489    Germany   50.63N     6.34E  \n17490    Germany   50.63N     6.34E  \n...          ...      ...       ...  \n8480046    Japan   36.17N   139.23E  \n8480047    Japan   36.17N   139.23E  \n8480048    Japan   36.17N   139.23E  \n8480049    Japan   36.17N   139.23E  \n8480050    Japan   36.17N   139.23E  \n\n[612913 rows x 7 columns]",
      "text/html": "<div>\n<style scoped>\n    .dataframe tbody tr th:only-of-type {\n        vertical-align: middle;\n    }\n\n    .dataframe tbody tr th {\n        vertical-align: top;\n    }\n\n    .dataframe thead th {\n        text-align: right;\n    }\n</style>\n<table border=\"1\" class=\"dataframe\">\n  <thead>\n    <tr style=\"text-align: right;\">\n      <th></th>\n      <th>dt</th>\n      <th>AverageTemperature</th>\n      <th>AverageTemperatureUncertainty</th>\n      <th>City</th>\n      <th>Country</th>\n      <th>Latitude</th>\n      <th>Longitude</th>\n    </tr>\n  </thead>\n  <tbody>\n    <tr>\n      <th>17482</th>\n      <td>1743-11-01</td>\n      <td>6.425</td>\n      <td>1.628</td>\n      <td>Aachen</td>\n      <td>Germany</td>\n      <td>50.63N</td>\n      <td>6.34E</td>\n    </tr>\n    <tr>\n      <th>17487</th>\n      <td>1744-04-01</td>\n      <td>8.599</td>\n      <td>2.485</td>\n      <td>Aachen</td>\n      <td>Germany</td>\n      <td>50.63N</td>\n      <td>6.34E</td>\n    </tr>\n    <tr>\n      <th>17488</th>\n      <td>1744-05-01</td>\n      <td>11.699</td>\n      <td>1.330</td>\n      <td>Aachen</td>\n      <td>Germany</td>\n      <td>50.63N</td>\n      <td>6.34E</td>\n    </tr>\n    <tr>\n      <th>17489</th>\n      <td>1744-06-01</td>\n      <td>14.839</td>\n      <td>1.382</td>\n      <td>Aachen</td>\n      <td>Germany</td>\n      <td>50.63N</td>\n      <td>6.34E</td>\n    </tr>\n    <tr>\n      <th>17490</th>\n      <td>1744-07-01</td>\n      <td>16.390</td>\n      <td>1.529</td>\n      <td>Aachen</td>\n      <td>Germany</td>\n      <td>50.63N</td>\n      <td>6.34E</td>\n    </tr>\n    <tr>\n      <th>...</th>\n      <td>...</td>\n      <td>...</td>\n      <td>...</td>\n      <td>...</td>\n      <td>...</td>\n      <td>...</td>\n      <td>...</td>\n    </tr>\n    <tr>\n      <th>8480046</th>\n      <td>2013-04-01</td>\n      <td>11.310</td>\n      <td>0.493</td>\n      <td>Zama</td>\n      <td>Japan</td>\n      <td>36.17N</td>\n      <td>139.23E</td>\n    </tr>\n    <tr>\n      <th>8480047</th>\n      <td>2013-05-01</td>\n      <td>16.757</td>\n      <td>0.396</td>\n      <td>Zama</td>\n      <td>Japan</td>\n      <td>36.17N</td>\n      <td>139.23E</td>\n    </tr>\n    <tr>\n      <th>8480048</th>\n      <td>2013-06-01</td>\n      <td>20.927</td>\n      <td>0.489</td>\n      <td>Zama</td>\n      <td>Japan</td>\n      <td>36.17N</td>\n      <td>139.23E</td>\n    </tr>\n    <tr>\n      <th>8480049</th>\n      <td>2013-07-01</td>\n      <td>24.645</td>\n      <td>0.404</td>\n      <td>Zama</td>\n      <td>Japan</td>\n      <td>36.17N</td>\n      <td>139.23E</td>\n    </tr>\n    <tr>\n      <th>8480050</th>\n      <td>2013-08-01</td>\n      <td>26.364</td>\n      <td>0.461</td>\n      <td>Zama</td>\n      <td>Japan</td>\n      <td>36.17N</td>\n      <td>139.23E</td>\n    </tr>\n  </tbody>\n</table>\n<p>612913 rows × 7 columns</p>\n</div>"
     },
     "execution_count": 17,
     "metadata": {},
     "output_type": "execute_result"
    }
   ],
   "source": [
    "data_non_null[(data_non_null[\"Country\"] == \"Japan\") | (data_non_null[\"Country\"] == \"Germany\")]"
   ],
   "metadata": {
    "collapsed": false,
    "ExecuteTime": {
     "end_time": "2024-02-25T11:57:33.477583464Z",
     "start_time": "2024-02-25T11:57:33.431663068Z"
    }
   },
   "id": "ef67c94ae446dde",
   "execution_count": 17
  },
  {
   "cell_type": "code",
   "outputs": [
    {
     "data": {
      "text/plain": "                dt  AverageTemperature  AverageTemperatureUncertainty   City  \\\n45536   1845-07-01              23.979                          1.876  Abiko   \n45537   1845-08-01              24.109                          1.376  Abiko   \n45548   1846-07-01              23.845                          1.969  Abiko   \n45549   1846-08-01              24.931                          1.540  Abiko   \n45550   1846-09-01              20.703                          1.815  Abiko   \n...            ...                 ...                            ...    ...   \n8480038 2012-08-01              26.681                          0.482   Zama   \n8480039 2012-09-01              23.275                          0.348   Zama   \n8480048 2013-06-01              20.927                          0.489   Zama   \n8480049 2013-07-01              24.645                          0.404   Zama   \n8480050 2013-08-01              26.364                          0.461   Zama   \n\n        Country Latitude Longitude  \n45536     Japan   36.17N   139.23E  \n45537     Japan   36.17N   139.23E  \n45548     Japan   36.17N   139.23E  \n45549     Japan   36.17N   139.23E  \n45550     Japan   36.17N   139.23E  \n...         ...      ...       ...  \n8480038   Japan   36.17N   139.23E  \n8480039   Japan   36.17N   139.23E  \n8480048   Japan   36.17N   139.23E  \n8480049   Japan   36.17N   139.23E  \n8480050   Japan   36.17N   139.23E  \n\n[100148 rows x 7 columns]",
      "text/html": "<div>\n<style scoped>\n    .dataframe tbody tr th:only-of-type {\n        vertical-align: middle;\n    }\n\n    .dataframe tbody tr th {\n        vertical-align: top;\n    }\n\n    .dataframe thead th {\n        text-align: right;\n    }\n</style>\n<table border=\"1\" class=\"dataframe\">\n  <thead>\n    <tr style=\"text-align: right;\">\n      <th></th>\n      <th>dt</th>\n      <th>AverageTemperature</th>\n      <th>AverageTemperatureUncertainty</th>\n      <th>City</th>\n      <th>Country</th>\n      <th>Latitude</th>\n      <th>Longitude</th>\n    </tr>\n  </thead>\n  <tbody>\n    <tr>\n      <th>45536</th>\n      <td>1845-07-01</td>\n      <td>23.979</td>\n      <td>1.876</td>\n      <td>Abiko</td>\n      <td>Japan</td>\n      <td>36.17N</td>\n      <td>139.23E</td>\n    </tr>\n    <tr>\n      <th>45537</th>\n      <td>1845-08-01</td>\n      <td>24.109</td>\n      <td>1.376</td>\n      <td>Abiko</td>\n      <td>Japan</td>\n      <td>36.17N</td>\n      <td>139.23E</td>\n    </tr>\n    <tr>\n      <th>45548</th>\n      <td>1846-07-01</td>\n      <td>23.845</td>\n      <td>1.969</td>\n      <td>Abiko</td>\n      <td>Japan</td>\n      <td>36.17N</td>\n      <td>139.23E</td>\n    </tr>\n    <tr>\n      <th>45549</th>\n      <td>1846-08-01</td>\n      <td>24.931</td>\n      <td>1.540</td>\n      <td>Abiko</td>\n      <td>Japan</td>\n      <td>36.17N</td>\n      <td>139.23E</td>\n    </tr>\n    <tr>\n      <th>45550</th>\n      <td>1846-09-01</td>\n      <td>20.703</td>\n      <td>1.815</td>\n      <td>Abiko</td>\n      <td>Japan</td>\n      <td>36.17N</td>\n      <td>139.23E</td>\n    </tr>\n    <tr>\n      <th>...</th>\n      <td>...</td>\n      <td>...</td>\n      <td>...</td>\n      <td>...</td>\n      <td>...</td>\n      <td>...</td>\n      <td>...</td>\n    </tr>\n    <tr>\n      <th>8480038</th>\n      <td>2012-08-01</td>\n      <td>26.681</td>\n      <td>0.482</td>\n      <td>Zama</td>\n      <td>Japan</td>\n      <td>36.17N</td>\n      <td>139.23E</td>\n    </tr>\n    <tr>\n      <th>8480039</th>\n      <td>2012-09-01</td>\n      <td>23.275</td>\n      <td>0.348</td>\n      <td>Zama</td>\n      <td>Japan</td>\n      <td>36.17N</td>\n      <td>139.23E</td>\n    </tr>\n    <tr>\n      <th>8480048</th>\n      <td>2013-06-01</td>\n      <td>20.927</td>\n      <td>0.489</td>\n      <td>Zama</td>\n      <td>Japan</td>\n      <td>36.17N</td>\n      <td>139.23E</td>\n    </tr>\n    <tr>\n      <th>8480049</th>\n      <td>2013-07-01</td>\n      <td>24.645</td>\n      <td>0.404</td>\n      <td>Zama</td>\n      <td>Japan</td>\n      <td>36.17N</td>\n      <td>139.23E</td>\n    </tr>\n    <tr>\n      <th>8480050</th>\n      <td>2013-08-01</td>\n      <td>26.364</td>\n      <td>0.461</td>\n      <td>Zama</td>\n      <td>Japan</td>\n      <td>36.17N</td>\n      <td>139.23E</td>\n    </tr>\n  </tbody>\n</table>\n<p>100148 rows × 7 columns</p>\n</div>"
     },
     "execution_count": 18,
     "metadata": {},
     "output_type": "execute_result"
    }
   ],
   "source": [
    "data_non_null[(data_non_null[\"Country\"] == \"Japan\") & (data_non_null[\"AverageTemperature\"] > 20 )]\n"
   ],
   "metadata": {
    "collapsed": false,
    "ExecuteTime": {
     "end_time": "2024-02-25T11:58:37.097920349Z",
     "start_time": "2024-02-25T11:58:37.013750989Z"
    }
   },
   "id": "554fac9fec783c59",
   "execution_count": 18
  },
  {
   "cell_type": "code",
   "outputs": [
    {
     "data": {
      "text/plain": "Country\nJapan        356467\nIndonesia    273295\nGermany      256446\nName: count, dtype: int64"
     },
     "execution_count": 21,
     "metadata": {},
     "output_type": "execute_result"
    }
   ],
   "source": [
    "data_non_null[data_non_null[\"Country\"].isin([\"Japan\", \"Germany\", \"Indonesia\"])][\"Country\"].value_counts()"
   ],
   "metadata": {
    "collapsed": false,
    "ExecuteTime": {
     "end_time": "2024-02-25T12:01:18.170566879Z",
     "start_time": "2024-02-25T12:01:18.065169720Z"
    }
   },
   "id": "7d261fcf37a0d472",
   "execution_count": 21
  },
  {
   "cell_type": "code",
   "outputs": [],
   "source": [
    "data_selected = data_non_null[data_non_null[\"Country\"].isin([\"Japan\", \"Germany\", \"Indonesia\"])]"
   ],
   "metadata": {
    "collapsed": false,
    "ExecuteTime": {
     "end_time": "2024-02-25T12:34:06.788358450Z",
     "start_time": "2024-02-25T12:34:06.743034317Z"
    }
   },
   "id": "c6428ff856e0c1e5",
   "execution_count": 63
  },
  {
   "cell_type": "code",
   "outputs": [
    {
     "data": {
      "text/plain": "              dt  AverageTemperature  AverageTemperatureUncertainty    City  \\\n17482 1743-11-01               6.425                          1.628  Aachen   \n17487 1744-04-01               8.599                          2.485  Aachen   \n17488 1744-05-01              11.699                          1.330  Aachen   \n17489 1744-06-01              14.839                          1.382  Aachen   \n17490 1744-07-01              16.390                          1.529  Aachen   \n\n       Country Latitude Longitude  \n17482  Germany   50.63N     6.34E  \n17487  Germany   50.63N     6.34E  \n17488  Germany   50.63N     6.34E  \n17489  Germany   50.63N     6.34E  \n17490  Germany   50.63N     6.34E  ",
      "text/html": "<div>\n<style scoped>\n    .dataframe tbody tr th:only-of-type {\n        vertical-align: middle;\n    }\n\n    .dataframe tbody tr th {\n        vertical-align: top;\n    }\n\n    .dataframe thead th {\n        text-align: right;\n    }\n</style>\n<table border=\"1\" class=\"dataframe\">\n  <thead>\n    <tr style=\"text-align: right;\">\n      <th></th>\n      <th>dt</th>\n      <th>AverageTemperature</th>\n      <th>AverageTemperatureUncertainty</th>\n      <th>City</th>\n      <th>Country</th>\n      <th>Latitude</th>\n      <th>Longitude</th>\n    </tr>\n  </thead>\n  <tbody>\n    <tr>\n      <th>17482</th>\n      <td>1743-11-01</td>\n      <td>6.425</td>\n      <td>1.628</td>\n      <td>Aachen</td>\n      <td>Germany</td>\n      <td>50.63N</td>\n      <td>6.34E</td>\n    </tr>\n    <tr>\n      <th>17487</th>\n      <td>1744-04-01</td>\n      <td>8.599</td>\n      <td>2.485</td>\n      <td>Aachen</td>\n      <td>Germany</td>\n      <td>50.63N</td>\n      <td>6.34E</td>\n    </tr>\n    <tr>\n      <th>17488</th>\n      <td>1744-05-01</td>\n      <td>11.699</td>\n      <td>1.330</td>\n      <td>Aachen</td>\n      <td>Germany</td>\n      <td>50.63N</td>\n      <td>6.34E</td>\n    </tr>\n    <tr>\n      <th>17489</th>\n      <td>1744-06-01</td>\n      <td>14.839</td>\n      <td>1.382</td>\n      <td>Aachen</td>\n      <td>Germany</td>\n      <td>50.63N</td>\n      <td>6.34E</td>\n    </tr>\n    <tr>\n      <th>17490</th>\n      <td>1744-07-01</td>\n      <td>16.390</td>\n      <td>1.529</td>\n      <td>Aachen</td>\n      <td>Germany</td>\n      <td>50.63N</td>\n      <td>6.34E</td>\n    </tr>\n  </tbody>\n</table>\n</div>"
     },
     "execution_count": 48,
     "metadata": {},
     "output_type": "execute_result"
    }
   ],
   "source": [
    "data_selected.head()"
   ],
   "metadata": {
    "collapsed": false,
    "ExecuteTime": {
     "end_time": "2024-02-25T12:24:14.770032888Z",
     "start_time": "2024-02-25T12:24:14.742530174Z"
    }
   },
   "id": "92fb0fb4c7fd55c9",
   "execution_count": 48
  },
  {
   "cell_type": "code",
   "outputs": [
    {
     "data": {
      "text/plain": "Country\nJapan        356467\nIndonesia    273295\nGermany      256446\nName: count, dtype: int64"
     },
     "execution_count": 30,
     "metadata": {},
     "output_type": "execute_result"
    }
   ],
   "source": [
    "data_selected[\"Country\"].value_counts()"
   ],
   "metadata": {
    "collapsed": false,
    "ExecuteTime": {
     "end_time": "2024-02-25T12:09:04.985568694Z",
     "start_time": "2024-02-25T12:09:04.951883879Z"
    }
   },
   "id": "a8e402d11b3bdc90",
   "execution_count": 30
  },
  {
   "cell_type": "code",
   "outputs": [
    {
     "data": {
      "text/plain": "           AverageTemperature\nCountry                      \nGermany              8.482791\nIndonesia           25.990193\nJapan               13.402360",
      "text/html": "<div>\n<style scoped>\n    .dataframe tbody tr th:only-of-type {\n        vertical-align: middle;\n    }\n\n    .dataframe tbody tr th {\n        vertical-align: top;\n    }\n\n    .dataframe thead th {\n        text-align: right;\n    }\n</style>\n<table border=\"1\" class=\"dataframe\">\n  <thead>\n    <tr style=\"text-align: right;\">\n      <th></th>\n      <th>AverageTemperature</th>\n    </tr>\n    <tr>\n      <th>Country</th>\n      <th></th>\n    </tr>\n  </thead>\n  <tbody>\n    <tr>\n      <th>Germany</th>\n      <td>8.482791</td>\n    </tr>\n    <tr>\n      <th>Indonesia</th>\n      <td>25.990193</td>\n    </tr>\n    <tr>\n      <th>Japan</th>\n      <td>13.402360</td>\n    </tr>\n  </tbody>\n</table>\n</div>"
     },
     "execution_count": 38,
     "metadata": {},
     "output_type": "execute_result"
    }
   ],
   "source": [
    " data_selected.groupby(by=\"Country\").agg({\"AverageTemperature\": \"mean\"})"
   ],
   "metadata": {
    "collapsed": false,
    "ExecuteTime": {
     "end_time": "2024-02-25T12:16:31.171168474Z",
     "start_time": "2024-02-25T12:16:31.121785746Z"
    }
   },
   "id": "65d10d3c3c3cba96",
   "execution_count": 38
  },
  {
   "cell_type": "code",
   "outputs": [
    {
     "data": {
      "text/plain": "           AverageTemperature\nCountry                      \nGermany               -12.008\nIndonesia              22.047\nJapan                 -13.456",
      "text/html": "<div>\n<style scoped>\n    .dataframe tbody tr th:only-of-type {\n        vertical-align: middle;\n    }\n\n    .dataframe tbody tr th {\n        vertical-align: top;\n    }\n\n    .dataframe thead th {\n        text-align: right;\n    }\n</style>\n<table border=\"1\" class=\"dataframe\">\n  <thead>\n    <tr style=\"text-align: right;\">\n      <th></th>\n      <th>AverageTemperature</th>\n    </tr>\n    <tr>\n      <th>Country</th>\n      <th></th>\n    </tr>\n  </thead>\n  <tbody>\n    <tr>\n      <th>Germany</th>\n      <td>-12.008</td>\n    </tr>\n    <tr>\n      <th>Indonesia</th>\n      <td>22.047</td>\n    </tr>\n    <tr>\n      <th>Japan</th>\n      <td>-13.456</td>\n    </tr>\n  </tbody>\n</table>\n</div>"
     },
     "execution_count": 44,
     "metadata": {},
     "output_type": "execute_result"
    }
   ],
   "source": [
    " data_selected.groupby(by=\"Country\").agg({\"AverageTemperature\": \"mean\"}) # Country'e göre grupla ve  AverageTemperature kolonuna göre ort al.\n"
   ],
   "metadata": {
    "collapsed": false,
    "ExecuteTime": {
     "end_time": "2024-02-25T12:20:21.326397283Z",
     "start_time": "2024-02-25T12:20:21.283302172Z"
    }
   },
   "id": "a3a784ab9efc6695",
   "execution_count": 44
  },
  {
   "cell_type": "code",
   "outputs": [],
   "source": [
    "tr_avg_temps = data[data[\"Country\"] == \"Japan\"][\"AverageTemperature\"]\n",
    "gr_avg_temps = data[data[\"Country\"] == \"Germany\"][\"AverageTemperature\"]\n",
    "br_avg_temps = data[data[\"Country\"] == \"Brazil\"][\"AverageTemperature\"]"
   ],
   "metadata": {
    "collapsed": false,
    "ExecuteTime": {
     "end_time": "2024-02-25T12:26:56.479074873Z",
     "start_time": "2024-02-25T12:26:55.431639327Z"
    }
   },
   "id": "776af7fce7fc7500",
   "execution_count": 54
  },
  {
   "cell_type": "code",
   "outputs": [
    {
     "name": "stderr",
     "output_type": "stream",
     "text": [
      "/tmp/ipykernel_9446/2806142122.py:1: UserWarning: \n",
      "\n",
      "`distplot` is a deprecated function and will be removed in seaborn v0.14.0.\n",
      "\n",
      "Please adapt your code to use either `displot` (a figure-level function with\n",
      "similar flexibility) or `histplot` (an axes-level function for histograms).\n",
      "\n",
      "For a guide to updating your code to use the new functions, please see\n",
      "https://gist.github.com/mwaskom/de44147ed2974457ad6372750bbe5751\n",
      "\n",
      "  sns.distplot(tr_avg_temps)\n",
      "/tmp/ipykernel_9446/2806142122.py:2: UserWarning: \n",
      "\n",
      "`distplot` is a deprecated function and will be removed in seaborn v0.14.0.\n",
      "\n",
      "Please adapt your code to use either `displot` (a figure-level function with\n",
      "similar flexibility) or `histplot` (an axes-level function for histograms).\n",
      "\n",
      "For a guide to updating your code to use the new functions, please see\n",
      "https://gist.github.com/mwaskom/de44147ed2974457ad6372750bbe5751\n",
      "\n",
      "  sns.distplot(gr_avg_temps)\n",
      "/tmp/ipykernel_9446/2806142122.py:3: UserWarning: \n",
      "\n",
      "`distplot` is a deprecated function and will be removed in seaborn v0.14.0.\n",
      "\n",
      "Please adapt your code to use either `displot` (a figure-level function with\n",
      "similar flexibility) or `histplot` (an axes-level function for histograms).\n",
      "\n",
      "For a guide to updating your code to use the new functions, please see\n",
      "https://gist.github.com/mwaskom/de44147ed2974457ad6372750bbe5751\n",
      "\n",
      "  sns.distplot(br_avg_temps)\n"
     ]
    },
    {
     "data": {
      "text/plain": "<Axes: xlabel='AverageTemperature', ylabel='Density'>"
     },
     "execution_count": 55,
     "metadata": {},
     "output_type": "execute_result"
    },
    {
     "data": {
      "text/plain": "<Figure size 640x480 with 1 Axes>",
      "image/png": "[encoded data removed]"
     },
     "metadata": {},
     "output_type": "display_data"
    }
   ],
   "source": [
    "sns.distplot(tr_avg_temps)\n",
    "sns.distplot(gr_avg_temps)\n",
    "sns.distplot(br_avg_temps)"
   ],
   "metadata": {
    "collapsed": false,
    "ExecuteTime": {
     "end_time": "2024-02-25T12:27:16.216834815Z",
     "start_time": "2024-02-25T12:27:10.641969914Z"
    }
   },
   "id": "722709bac6c68319",
   "execution_count": 55
  },
  {
   "cell_type": "code",
   "outputs": [],
   "source": [
    "# data[\"Country\"].value_counts().index\n",
    "Countries = data_selected[\"Country\"].unique()"
   ],
   "metadata": {
    "collapsed": false,
    "ExecuteTime": {
     "end_time": "2024-02-25T12:34:18.162716199Z",
     "start_time": "2024-02-25T12:34:18.117288158Z"
    }
   },
   "id": "330e31c94683b3e5",
   "execution_count": 64
  },
  {
   "cell_type": "code",
   "outputs": [
    {
     "name": "stderr",
     "output_type": "stream",
     "text": [
      "/tmp/ipykernel_9446/3449921806.py:4: UserWarning: \n",
      "\n",
      "`distplot` is a deprecated function and will be removed in seaborn v0.14.0.\n",
      "\n",
      "Please adapt your code to use either `displot` (a figure-level function with\n",
      "similar flexibility) or `histplot` (an axes-level function for histograms).\n",
      "\n",
      "For a guide to updating your code to use the new functions, please see\n",
      "https://gist.github.com/mwaskom/de44147ed2974457ad6372750bbe5751\n",
      "\n",
      "  sns.distplot(data[data[\"Country\"] == country][\"AverageTemperature\"])\n",
      "/tmp/ipykernel_9446/3449921806.py:4: UserWarning: \n",
      "\n",
      "`distplot` is a deprecated function and will be removed in seaborn v0.14.0.\n",
      "\n",
      "Please adapt your code to use either `displot` (a figure-level function with\n",
      "similar flexibility) or `histplot` (an axes-level function for histograms).\n",
      "\n",
      "For a guide to updating your code to use the new functions, please see\n",
      "https://gist.github.com/mwaskom/de44147ed2974457ad6372750bbe5751\n",
      "\n",
      "  sns.distplot(data[data[\"Country\"] == country][\"AverageTemperature\"])\n",
      "/tmp/ipykernel_9446/3449921806.py:4: UserWarning: \n",
      "\n",
      "`distplot` is a deprecated function and will be removed in seaborn v0.14.0.\n",
      "\n",
      "Please adapt your code to use either `displot` (a figure-level function with\n",
      "similar flexibility) or `histplot` (an axes-level function for histograms).\n",
      "\n",
      "For a guide to updating your code to use the new functions, please see\n",
      "https://gist.github.com/mwaskom/de44147ed2974457ad6372750bbe5751\n",
      "\n",
      "  sns.distplot(data[data[\"Country\"] == country][\"AverageTemperature\"])\n"
     ]
    },
    {
     "data": {
      "text/plain": "<matplotlib.legend.Legend at 0x7f1d1e35b040>"
     },
     "execution_count": 68,
     "metadata": {},
     "output_type": "execute_result"
    },
    {
     "data": {
      "text/plain": "<Figure size 1500x500 with 1 Axes>",
      "image/png": "[encoded data removed]"
     },
     "metadata": {},
     "output_type": "display_data"
    }
   ],
   "source": [
    "sns.set_style(\"whitegrid\")  # arka plana çizgi ekler\n",
    "plt.figure(figsize=(15,5))   # grafiğin boyutunu düzenler\n",
    "for country in Countries:\n",
    "    sns.distplot(data[data[\"Country\"] == country][\"AverageTemperature\"])\n",
    "\n",
    "plt.legend(Countries)  # gelen değerlerin grafikteki hangi renkleri temsil edeceğini gösterir."
   ],
   "metadata": {
    "collapsed": false,
    "ExecuteTime": {
     "end_time": "2024-02-25T12:36:06.672780755Z",
     "start_time": "2024-02-25T12:36:00.760866035Z"
    }
   },
   "id": "3e41c37ae1c2997b",
   "execution_count": 68
  },
  {
   "cell_type": "code",
   "outputs": [],
   "source": [],
   "metadata": {
    "collapsed": false
   },
   "id": "d78fe7751a67e149"
  }
 ],
 "metadata": {
  "kernelspec": {
   "display_name": "Python 3",
   "language": "python",
   "name": "python3"
  },
  "language_info": {
   "codemirror_mode": {
    "name": "ipython",
    "version": 2
   },
   "file_extension": ".py",
   "mimetype": "text/x-python",
   "name": "python",
   "nbconvert_exporter": "python",
   "pygments_lexer": "ipython2",
   "version": "2.7.6"
  }
 },
 "nbformat": 4,
 "nbformat_minor": 5
}
